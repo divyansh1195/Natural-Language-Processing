{
  "nbformat": 4,
  "nbformat_minor": 0,
  "metadata": {
    "colab": {
      "name": "NLP Inroduction.ipynb",
      "provenance": [],
      "authorship_tag": "ABX9TyMPP+em6CFBLj6eqbjEtope",
      "include_colab_link": true
    },
    "kernelspec": {
      "name": "python3",
      "display_name": "Python 3"
    }
  },
  "cells": [
    {
      "cell_type": "markdown",
      "metadata": {
        "id": "view-in-github",
        "colab_type": "text"
      },
      "source": [
        "<a href=\"https://colab.research.google.com/github/divyansh1195/Natural-Language-Processing/blob/master/NLP_Inroduction.ipynb\" target=\"_parent\"><img src=\"https://colab.research.google.com/assets/colab-badge.svg\" alt=\"Open In Colab\"/></a>"
      ]
    },
    {
      "cell_type": "markdown",
      "metadata": {
        "id": "VA8kjmX-3GP9",
        "colab_type": "text"
      },
      "source": [
        "# NLP Getting Started"
      ]
    },
    {
      "cell_type": "markdown",
      "metadata": {
        "id": "u7IK1VCDUcKg",
        "colab_type": "text"
      },
      "source": [
        "**NLP Tokenization**\n",
        "\n",
        "Tokenization is the process of tokenizing or splitting a string, text into a list of tokens. One can think of token as parts like a word is a token in a sentence, and a sentence is a token in a paragraph."
      ]
    },
    {
      "cell_type": "code",
      "metadata": {
        "id": "B4xzvsBlVbG1",
        "colab_type": "code",
        "colab": {}
      },
      "source": [
        "paragraph = \"\"\"I have three visions for India. In 3000 years of our history, people from all over \n",
        "               the world have come and invaded us, captured our lands, conquered our minds. \n",
        "               From Alexander onwards, the Greeks, the Turks, the Moguls, the Portuguese, the British,\n",
        "               the French, the Dutch, all of them came and looted us, took over what was ours. \n",
        "               Yet we have not done this to any other nation. We have not conquered anyone. \n",
        "               We have not grabbed their land, their culture, \n",
        "               their history and tried to enforce our way of life on them. \n",
        "               Why? Because we respect the freedom of others.That is why my \n",
        "               first vision is that of freedom. I believe that India got its first vision of \n",
        "               this in 1857, when we started the War of Independence. It is this freedom that\n",
        "               we must protect and nurture and build on. If we are not free, no one will respect us.\n",
        "               My second vision for India’s development. For fifty years we have been a developing nation.\n",
        "               It is time we see ourselves as a developed nation. We are among the top 5 nations of the world\n",
        "               in terms of GDP. We have a 10 percent growth rate in most areas. Our poverty levels are falling.\n",
        "               Our achievements are being globally recognised today. Yet we lack the self-confidence to\n",
        "               see ourselves as a developed nation, self-reliant and self-assured. Isn’t this incorrect?\n",
        "               I have a third vision. India must stand up to the world. Because I believe that unless India \n",
        "               stands up to the world, no one will respect us. Only strength respects strength. We must be \n",
        "               strong not only as a military power but also as an economic power. Both must go hand-in-hand. \n",
        "               My good fortune was to have worked with three great minds. Dr. Vikram Sarabhai of the Dept. of \n",
        "               space, Professor Satish Dhawan, who succeeded him and Dr. Brahm Prakash, father of nuclear material.\n",
        "               I was lucky to have worked with all three of them closely and consider this the great opportunity of my life. \n",
        "               I see four milestones in my career\"\"\""
      ],
      "execution_count": null,
      "outputs": []
    },
    {
      "cell_type": "code",
      "metadata": {
        "id": "le-xxFyXWDwK",
        "colab_type": "code",
        "colab": {}
      },
      "source": [
        "# Tokenization of paragraphs/sentences\n",
        "import nltk"
      ],
      "execution_count": null,
      "outputs": []
    },
    {
      "cell_type": "code",
      "metadata": {
        "id": "IyRkuaOWWgki",
        "colab_type": "code",
        "colab": {
          "base_uri": "https://localhost:8080/",
          "height": 51
        },
        "outputId": "a78deff7-f45d-4649-8d6e-2b1e9604b9d4"
      },
      "source": [
        "# Tokenizing sentences (converts paragraph into a list of sentences) \n",
        "nltk.download('punkt')\n",
        "sentences = nltk.sent_tokenize(paragraph)"
      ],
      "execution_count": null,
      "outputs": [
        {
          "output_type": "stream",
          "text": [
            "[nltk_data] Downloading package punkt to /root/nltk_data...\n",
            "[nltk_data]   Unzipping tokenizers/punkt.zip.\n"
          ],
          "name": "stdout"
        }
      ]
    },
    {
      "cell_type": "code",
      "metadata": {
        "id": "5Gu5OtoHWw0D",
        "colab_type": "code",
        "colab": {
          "base_uri": "https://localhost:8080/",
          "height": 564
        },
        "outputId": "fbd2a53a-2fe6-405a-ef9c-8c5059cddcc2"
      },
      "source": [
        "sentences"
      ],
      "execution_count": null,
      "outputs": [
        {
          "output_type": "execute_result",
          "data": {
            "text/plain": [
              "['I have three visions for India.',\n",
              " 'In 3000 years of our history, people from all over \\n               the world have come and invaded us, captured our lands, conquered our minds.',\n",
              " 'From Alexander onwards, the Greeks, the Turks, the Moguls, the Portuguese, the British,\\n               the French, the Dutch, all of them came and looted us, took over what was ours.',\n",
              " 'Yet we have not done this to any other nation.',\n",
              " 'We have not conquered anyone.',\n",
              " 'We have not grabbed their land, their culture, \\n               their history and tried to enforce our way of life on them.',\n",
              " 'Why?',\n",
              " 'Because we respect the freedom of others.That is why my \\n               first vision is that of freedom.',\n",
              " 'I believe that India got its first vision of \\n               this in 1857, when we started the War of Independence.',\n",
              " 'It is this freedom that\\n               we must protect and nurture and build on.',\n",
              " 'If we are not free, no one will respect us.',\n",
              " 'My second vision for India’s development.',\n",
              " 'For fifty years we have been a developing nation.',\n",
              " 'It is time we see ourselves as a developed nation.',\n",
              " 'We are among the top 5 nations of the world\\n               in terms of GDP.',\n",
              " 'We have a 10 percent growth rate in most areas.',\n",
              " 'Our poverty levels are falling.',\n",
              " 'Our achievements are being globally recognised today.',\n",
              " 'Yet we lack the self-confidence to\\n               see ourselves as a developed nation, self-reliant and self-assured.',\n",
              " 'Isn’t this incorrect?',\n",
              " 'I have a third vision.',\n",
              " 'India must stand up to the world.',\n",
              " 'Because I believe that unless India \\n               stands up to the world, no one will respect us.',\n",
              " 'Only strength respects strength.',\n",
              " 'We must be \\n               strong not only as a military power but also as an economic power.',\n",
              " 'Both must go hand-in-hand.',\n",
              " 'My good fortune was to have worked with three great minds.',\n",
              " 'Dr. Vikram Sarabhai of the Dept.',\n",
              " 'of \\n               space, Professor Satish Dhawan, who succeeded him and Dr. Brahm Prakash, father of nuclear material.',\n",
              " 'I was lucky to have worked with all three of them closely and consider this the great opportunity of my life.',\n",
              " 'I see four milestones in my career']"
            ]
          },
          "metadata": {
            "tags": []
          },
          "execution_count": 4
        }
      ]
    },
    {
      "cell_type": "code",
      "metadata": {
        "id": "_9OnzEEBW3vc",
        "colab_type": "code",
        "colab": {
          "base_uri": "https://localhost:8080/",
          "height": 1000
        },
        "outputId": "b40b253a-af1b-4feb-b16d-b8572cb7d3d8"
      },
      "source": [
        "# Tokenizing words(converts paragraph into a list of words)\n",
        "words = nltk.word_tokenize(paragraph)\n",
        "words\n",
        "#even punctuation marks, comma etc. are consideed as a word and with this the paragraph is converted into a list of words "
      ],
      "execution_count": null,
      "outputs": [
        {
          "output_type": "execute_result",
          "data": {
            "text/plain": [
              "['I',\n",
              " 'have',\n",
              " 'three',\n",
              " 'visions',\n",
              " 'for',\n",
              " 'India',\n",
              " '.',\n",
              " 'In',\n",
              " '3000',\n",
              " 'years',\n",
              " 'of',\n",
              " 'our',\n",
              " 'history',\n",
              " ',',\n",
              " 'people',\n",
              " 'from',\n",
              " 'all',\n",
              " 'over',\n",
              " 'the',\n",
              " 'world',\n",
              " 'have',\n",
              " 'come',\n",
              " 'and',\n",
              " 'invaded',\n",
              " 'us',\n",
              " ',',\n",
              " 'captured',\n",
              " 'our',\n",
              " 'lands',\n",
              " ',',\n",
              " 'conquered',\n",
              " 'our',\n",
              " 'minds',\n",
              " '.',\n",
              " 'From',\n",
              " 'Alexander',\n",
              " 'onwards',\n",
              " ',',\n",
              " 'the',\n",
              " 'Greeks',\n",
              " ',',\n",
              " 'the',\n",
              " 'Turks',\n",
              " ',',\n",
              " 'the',\n",
              " 'Moguls',\n",
              " ',',\n",
              " 'the',\n",
              " 'Portuguese',\n",
              " ',',\n",
              " 'the',\n",
              " 'British',\n",
              " ',',\n",
              " 'the',\n",
              " 'French',\n",
              " ',',\n",
              " 'the',\n",
              " 'Dutch',\n",
              " ',',\n",
              " 'all',\n",
              " 'of',\n",
              " 'them',\n",
              " 'came',\n",
              " 'and',\n",
              " 'looted',\n",
              " 'us',\n",
              " ',',\n",
              " 'took',\n",
              " 'over',\n",
              " 'what',\n",
              " 'was',\n",
              " 'ours',\n",
              " '.',\n",
              " 'Yet',\n",
              " 'we',\n",
              " 'have',\n",
              " 'not',\n",
              " 'done',\n",
              " 'this',\n",
              " 'to',\n",
              " 'any',\n",
              " 'other',\n",
              " 'nation',\n",
              " '.',\n",
              " 'We',\n",
              " 'have',\n",
              " 'not',\n",
              " 'conquered',\n",
              " 'anyone',\n",
              " '.',\n",
              " 'We',\n",
              " 'have',\n",
              " 'not',\n",
              " 'grabbed',\n",
              " 'their',\n",
              " 'land',\n",
              " ',',\n",
              " 'their',\n",
              " 'culture',\n",
              " ',',\n",
              " 'their',\n",
              " 'history',\n",
              " 'and',\n",
              " 'tried',\n",
              " 'to',\n",
              " 'enforce',\n",
              " 'our',\n",
              " 'way',\n",
              " 'of',\n",
              " 'life',\n",
              " 'on',\n",
              " 'them',\n",
              " '.',\n",
              " 'Why',\n",
              " '?',\n",
              " 'Because',\n",
              " 'we',\n",
              " 'respect',\n",
              " 'the',\n",
              " 'freedom',\n",
              " 'of',\n",
              " 'others.That',\n",
              " 'is',\n",
              " 'why',\n",
              " 'my',\n",
              " 'first',\n",
              " 'vision',\n",
              " 'is',\n",
              " 'that',\n",
              " 'of',\n",
              " 'freedom',\n",
              " '.',\n",
              " 'I',\n",
              " 'believe',\n",
              " 'that',\n",
              " 'India',\n",
              " 'got',\n",
              " 'its',\n",
              " 'first',\n",
              " 'vision',\n",
              " 'of',\n",
              " 'this',\n",
              " 'in',\n",
              " '1857',\n",
              " ',',\n",
              " 'when',\n",
              " 'we',\n",
              " 'started',\n",
              " 'the',\n",
              " 'War',\n",
              " 'of',\n",
              " 'Independence',\n",
              " '.',\n",
              " 'It',\n",
              " 'is',\n",
              " 'this',\n",
              " 'freedom',\n",
              " 'that',\n",
              " 'we',\n",
              " 'must',\n",
              " 'protect',\n",
              " 'and',\n",
              " 'nurture',\n",
              " 'and',\n",
              " 'build',\n",
              " 'on',\n",
              " '.',\n",
              " 'If',\n",
              " 'we',\n",
              " 'are',\n",
              " 'not',\n",
              " 'free',\n",
              " ',',\n",
              " 'no',\n",
              " 'one',\n",
              " 'will',\n",
              " 'respect',\n",
              " 'us',\n",
              " '.',\n",
              " 'My',\n",
              " 'second',\n",
              " 'vision',\n",
              " 'for',\n",
              " 'India',\n",
              " '’',\n",
              " 's',\n",
              " 'development',\n",
              " '.',\n",
              " 'For',\n",
              " 'fifty',\n",
              " 'years',\n",
              " 'we',\n",
              " 'have',\n",
              " 'been',\n",
              " 'a',\n",
              " 'developing',\n",
              " 'nation',\n",
              " '.',\n",
              " 'It',\n",
              " 'is',\n",
              " 'time',\n",
              " 'we',\n",
              " 'see',\n",
              " 'ourselves',\n",
              " 'as',\n",
              " 'a',\n",
              " 'developed',\n",
              " 'nation',\n",
              " '.',\n",
              " 'We',\n",
              " 'are',\n",
              " 'among',\n",
              " 'the',\n",
              " 'top',\n",
              " '5',\n",
              " 'nations',\n",
              " 'of',\n",
              " 'the',\n",
              " 'world',\n",
              " 'in',\n",
              " 'terms',\n",
              " 'of',\n",
              " 'GDP',\n",
              " '.',\n",
              " 'We',\n",
              " 'have',\n",
              " 'a',\n",
              " '10',\n",
              " 'percent',\n",
              " 'growth',\n",
              " 'rate',\n",
              " 'in',\n",
              " 'most',\n",
              " 'areas',\n",
              " '.',\n",
              " 'Our',\n",
              " 'poverty',\n",
              " 'levels',\n",
              " 'are',\n",
              " 'falling',\n",
              " '.',\n",
              " 'Our',\n",
              " 'achievements',\n",
              " 'are',\n",
              " 'being',\n",
              " 'globally',\n",
              " 'recognised',\n",
              " 'today',\n",
              " '.',\n",
              " 'Yet',\n",
              " 'we',\n",
              " 'lack',\n",
              " 'the',\n",
              " 'self-confidence',\n",
              " 'to',\n",
              " 'see',\n",
              " 'ourselves',\n",
              " 'as',\n",
              " 'a',\n",
              " 'developed',\n",
              " 'nation',\n",
              " ',',\n",
              " 'self-reliant',\n",
              " 'and',\n",
              " 'self-assured',\n",
              " '.',\n",
              " 'Isn',\n",
              " '’',\n",
              " 't',\n",
              " 'this',\n",
              " 'incorrect',\n",
              " '?',\n",
              " 'I',\n",
              " 'have',\n",
              " 'a',\n",
              " 'third',\n",
              " 'vision',\n",
              " '.',\n",
              " 'India',\n",
              " 'must',\n",
              " 'stand',\n",
              " 'up',\n",
              " 'to',\n",
              " 'the',\n",
              " 'world',\n",
              " '.',\n",
              " 'Because',\n",
              " 'I',\n",
              " 'believe',\n",
              " 'that',\n",
              " 'unless',\n",
              " 'India',\n",
              " 'stands',\n",
              " 'up',\n",
              " 'to',\n",
              " 'the',\n",
              " 'world',\n",
              " ',',\n",
              " 'no',\n",
              " 'one',\n",
              " 'will',\n",
              " 'respect',\n",
              " 'us',\n",
              " '.',\n",
              " 'Only',\n",
              " 'strength',\n",
              " 'respects',\n",
              " 'strength',\n",
              " '.',\n",
              " 'We',\n",
              " 'must',\n",
              " 'be',\n",
              " 'strong',\n",
              " 'not',\n",
              " 'only',\n",
              " 'as',\n",
              " 'a',\n",
              " 'military',\n",
              " 'power',\n",
              " 'but',\n",
              " 'also',\n",
              " 'as',\n",
              " 'an',\n",
              " 'economic',\n",
              " 'power',\n",
              " '.',\n",
              " 'Both',\n",
              " 'must',\n",
              " 'go',\n",
              " 'hand-in-hand',\n",
              " '.',\n",
              " 'My',\n",
              " 'good',\n",
              " 'fortune',\n",
              " 'was',\n",
              " 'to',\n",
              " 'have',\n",
              " 'worked',\n",
              " 'with',\n",
              " 'three',\n",
              " 'great',\n",
              " 'minds',\n",
              " '.',\n",
              " 'Dr.',\n",
              " 'Vikram',\n",
              " 'Sarabhai',\n",
              " 'of',\n",
              " 'the',\n",
              " 'Dept',\n",
              " '.',\n",
              " 'of',\n",
              " 'space',\n",
              " ',',\n",
              " 'Professor',\n",
              " 'Satish',\n",
              " 'Dhawan',\n",
              " ',',\n",
              " 'who',\n",
              " 'succeeded',\n",
              " 'him',\n",
              " 'and',\n",
              " 'Dr.',\n",
              " 'Brahm',\n",
              " 'Prakash',\n",
              " ',',\n",
              " 'father',\n",
              " 'of',\n",
              " 'nuclear',\n",
              " 'material',\n",
              " '.',\n",
              " 'I',\n",
              " 'was',\n",
              " 'lucky',\n",
              " 'to',\n",
              " 'have',\n",
              " 'worked',\n",
              " 'with',\n",
              " 'all',\n",
              " 'three',\n",
              " 'of',\n",
              " 'them',\n",
              " 'closely',\n",
              " 'and',\n",
              " 'consider',\n",
              " 'this',\n",
              " 'the',\n",
              " 'great',\n",
              " 'opportunity',\n",
              " 'of',\n",
              " 'my',\n",
              " 'life',\n",
              " '.',\n",
              " 'I',\n",
              " 'see',\n",
              " 'four',\n",
              " 'milestones',\n",
              " 'in',\n",
              " 'my',\n",
              " 'career']"
            ]
          },
          "metadata": {
            "tags": []
          },
          "execution_count": 5
        }
      ]
    },
    {
      "cell_type": "markdown",
      "metadata": {
        "id": "D04yIk36Xc9-",
        "colab_type": "text"
      },
      "source": [
        "**Stemming and Lemmatization**\n",
        "\n",
        "Stemming may or may not give meaningful representation whereas Lemmatization gives meaningful representaion and it takes more time than Stemming.\n",
        "Stemming examples->Sentiment Analysis, gmail spam classifier\n",
        "Lemmatization examples->Chat Bots, Q-A applications "
      ]
    },
    {
      "cell_type": "markdown",
      "metadata": {
        "id": "ChopC-J-ivz0",
        "colab_type": "text"
      },
      "source": [
        "Stemming"
      ]
    },
    {
      "cell_type": "code",
      "metadata": {
        "id": "7aEgnbqtaPFS",
        "colab_type": "code",
        "colab": {
          "base_uri": "https://localhost:8080/",
          "height": 51
        },
        "outputId": "632be2f4-006b-4927-b82a-34781dffd1c1"
      },
      "source": [
        "import nltk\n",
        "nltk.download('stopwords')\n",
        "from nltk.stem import PorterStemmer\n",
        "from nltk.corpus import stopwords\n",
        "#Stopwords are the words in any language which does not add much meaning to a sentence. They can safely be ignored without sacrificing the meaning of the sentence."
      ],
      "execution_count": null,
      "outputs": [
        {
          "output_type": "stream",
          "text": [
            "[nltk_data] Downloading package stopwords to /root/nltk_data...\n",
            "[nltk_data]   Unzipping corpora/stopwords.zip.\n"
          ],
          "name": "stdout"
        }
      ]
    },
    {
      "cell_type": "code",
      "metadata": {
        "id": "fnTCaewtabOY",
        "colab_type": "code",
        "colab": {
          "base_uri": "https://localhost:8080/",
          "height": 544
        },
        "outputId": "634f719c-ef98-4cf2-fb93-cbb5bd50b664"
      },
      "source": [
        "stemmer = PorterStemmer()\n",
        "sentences = nltk.sent_tokenize(paragraph)\n",
        "# Stemming\n",
        "for i in range(len(sentences)):\n",
        "    words = nltk.word_tokenize(sentences[i])\n",
        "    words = [stemmer.stem(word) for word in words if word not in set(stopwords.words('english'))]\n",
        "    sentences[i] = ' '.join(words)   \n",
        "sentences"
      ],
      "execution_count": null,
      "outputs": [
        {
          "output_type": "execute_result",
          "data": {
            "text/plain": [
              "['I three vision india .',\n",
              " 'In 3000 year histori , peopl world come invad us , captur land , conquer mind .',\n",
              " 'from alexand onward , greek , turk , mogul , portugues , british , french , dutch , came loot us , took .',\n",
              " 'yet done nation .',\n",
              " 'We conquer anyon .',\n",
              " 'We grab land , cultur , histori tri enforc way life .',\n",
              " 'whi ?',\n",
              " 'becaus respect freedom others.that first vision freedom .',\n",
              " 'I believ india got first vision 1857 , start war independ .',\n",
              " 'It freedom must protect nurtur build .',\n",
              " 'If free , one respect us .',\n",
              " 'My second vision india ’ develop .',\n",
              " 'for fifti year develop nation .',\n",
              " 'It time see develop nation .',\n",
              " 'We among top 5 nation world term gdp .',\n",
              " 'We 10 percent growth rate area .',\n",
              " 'our poverti level fall .',\n",
              " 'our achiev global recognis today .',\n",
              " 'yet lack self-confid see develop nation , self-reli self-assur .',\n",
              " 'isn ’ incorrect ?',\n",
              " 'I third vision .',\n",
              " 'india must stand world .',\n",
              " 'becaus I believ unless india stand world , one respect us .',\n",
              " 'onli strength respect strength .',\n",
              " 'We must strong militari power also econom power .',\n",
              " 'both must go hand-in-hand .',\n",
              " 'My good fortun work three great mind .',\n",
              " 'dr. vikram sarabhai dept .',\n",
              " 'space , professor satish dhawan , succeed dr. brahm prakash , father nuclear materi .',\n",
              " 'I lucki work three close consid great opportun life .',\n",
              " 'I see four mileston career']"
            ]
          },
          "metadata": {
            "tags": []
          },
          "execution_count": 7
        }
      ]
    },
    {
      "cell_type": "markdown",
      "metadata": {
        "id": "vlLFuFsaipty",
        "colab_type": "text"
      },
      "source": [
        "Lemmatization"
      ]
    },
    {
      "cell_type": "code",
      "metadata": {
        "id": "184bKcyLiseU",
        "colab_type": "code",
        "colab": {
          "base_uri": "https://localhost:8080/",
          "height": 85
        },
        "outputId": "3d170673-1f18-420b-b51e-8a9ba6a70e4f"
      },
      "source": [
        "import nltk\n",
        "nltk.download('stopwords')\n",
        "nltk.download('wordnet')\n",
        "from nltk.stem import WordNetLemmatizer\n",
        "from nltk.corpus import stopwords"
      ],
      "execution_count": null,
      "outputs": [
        {
          "output_type": "stream",
          "text": [
            "[nltk_data] Downloading package stopwords to /root/nltk_data...\n",
            "[nltk_data]   Package stopwords is already up-to-date!\n",
            "[nltk_data] Downloading package wordnet to /root/nltk_data...\n",
            "[nltk_data]   Unzipping corpora/wordnet.zip.\n"
          ],
          "name": "stdout"
        }
      ]
    },
    {
      "cell_type": "code",
      "metadata": {
        "id": "OQctX6L9lCX_",
        "colab_type": "code",
        "colab": {
          "base_uri": "https://localhost:8080/",
          "height": 544
        },
        "outputId": "9f36885c-77df-4c74-f718-1bcbfd8f55aa"
      },
      "source": [
        "sentences = nltk.sent_tokenize(paragraph)\n",
        "lemmatizer = WordNetLemmatizer()\n",
        "# Lemmatization\n",
        "for i in range(len(sentences)):\n",
        "    words = nltk.word_tokenize(sentences[i])\n",
        "    words = [lemmatizer.lemmatize(word) for word in words if word not in set(stopwords.words('english'))]\n",
        "    sentences[i] = ' '.join(words)   \n",
        "sentences"
      ],
      "execution_count": null,
      "outputs": [
        {
          "output_type": "execute_result",
          "data": {
            "text/plain": [
              "['I three vision India .',\n",
              " 'In 3000 year history , people world come invaded u , captured land , conquered mind .',\n",
              " 'From Alexander onwards , Greeks , Turks , Moguls , Portuguese , British , French , Dutch , came looted u , took .',\n",
              " 'Yet done nation .',\n",
              " 'We conquered anyone .',\n",
              " 'We grabbed land , culture , history tried enforce way life .',\n",
              " 'Why ?',\n",
              " 'Because respect freedom others.That first vision freedom .',\n",
              " 'I believe India got first vision 1857 , started War Independence .',\n",
              " 'It freedom must protect nurture build .',\n",
              " 'If free , one respect u .',\n",
              " 'My second vision India ’ development .',\n",
              " 'For fifty year developing nation .',\n",
              " 'It time see developed nation .',\n",
              " 'We among top 5 nation world term GDP .',\n",
              " 'We 10 percent growth rate area .',\n",
              " 'Our poverty level falling .',\n",
              " 'Our achievement globally recognised today .',\n",
              " 'Yet lack self-confidence see developed nation , self-reliant self-assured .',\n",
              " 'Isn ’ incorrect ?',\n",
              " 'I third vision .',\n",
              " 'India must stand world .',\n",
              " 'Because I believe unless India stand world , one respect u .',\n",
              " 'Only strength respect strength .',\n",
              " 'We must strong military power also economic power .',\n",
              " 'Both must go hand-in-hand .',\n",
              " 'My good fortune worked three great mind .',\n",
              " 'Dr. Vikram Sarabhai Dept .',\n",
              " 'space , Professor Satish Dhawan , succeeded Dr. Brahm Prakash , father nuclear material .',\n",
              " 'I lucky worked three closely consider great opportunity life .',\n",
              " 'I see four milestone career']"
            ]
          },
          "metadata": {
            "tags": []
          },
          "execution_count": 9
        }
      ]
    },
    {
      "cell_type": "markdown",
      "metadata": {
        "id": "DXzR_M5pnPM0",
        "colab_type": "text"
      },
      "source": [
        "**BAG OF WORDS MODEL**\n",
        "\n",
        "Bag of Words (BOW) is a method to extract features from text documents. It creates a vocabulary of all the unique words occurring in all the documents.\n",
        "\n",
        " Simply, it’s a collection of words to represent a sentence with word count and mostly disregarding the order in which they appear.\n",
        "\n"
      ]
    },
    {
      "cell_type": "code",
      "metadata": {
        "id": "lo7oxbnVnS7t",
        "colab_type": "code",
        "colab": {
          "base_uri": "https://localhost:8080/",
          "height": 136
        },
        "outputId": "b3d35977-bbb7-4f23-9350-195eaed2188a"
      },
      "source": [
        "# Cleaning the Text\n",
        "import nltk\n",
        "import re\n",
        "from nltk.corpus import stopwords\n",
        "from nltk.stem.porter import PorterStemmer\n",
        "from nltk.stem import WordNetLemmatizer\n",
        "\n",
        "stemmer = PorterStemmer()\n",
        "lemmatizer = WordNetLemmatizer()\n",
        "sentences = nltk.sent_tokenize(paragraph)\n",
        "\n",
        "corpus = []\n",
        "for i in range(len(sentences)):\n",
        "    review = re.sub('[^a-zA-Z]', ' ', sentences[i])\n",
        "    review = review.lower()\n",
        "    review = review.split()\n",
        "    review = [lemmatizer.lemmatize(word) for word in review if not word in set(stopwords.words('english'))]\n",
        "    review = ' '.join(review)\n",
        "    corpus.append(review)\n",
        "\n",
        "# Creating the Bag of Words model\n",
        "from sklearn.feature_extraction.text import CountVectorizer\n",
        "cv = CountVectorizer(max_features = 1500)\n",
        "X = cv.fit_transform(corpus).toarray()\n",
        "X"
      ],
      "execution_count": null,
      "outputs": [
        {
          "output_type": "execute_result",
          "data": {
            "text/plain": [
              "array([[0, 0, 0, ..., 0, 0, 0],\n",
              "       [0, 0, 0, ..., 1, 1, 0],\n",
              "       [0, 1, 0, ..., 0, 0, 0],\n",
              "       ...,\n",
              "       [0, 0, 0, ..., 0, 0, 0],\n",
              "       [0, 0, 0, ..., 0, 0, 0],\n",
              "       [0, 0, 0, ..., 0, 0, 0]])"
            ]
          },
          "metadata": {
            "tags": []
          },
          "execution_count": 10
        }
      ]
    },
    {
      "cell_type": "markdown",
      "metadata": {
        "id": "adlDZvq7ZQv0",
        "colab_type": "text"
      },
      "source": [
        "**TF-IDF (Term Frequency and Inverse Dominant Frequency)**\n",
        "\n",
        "This provides semantic meaning in each and every sentences as opposed to BOW model which doesn't and convert a collection of raw documents to a matrix of TF-IDF features."
      ]
    },
    {
      "cell_type": "code",
      "metadata": {
        "id": "AZPKgK-1Zosb",
        "colab_type": "code",
        "colab": {
          "base_uri": "https://localhost:8080/",
          "height": 238
        },
        "outputId": "fc2699de-0f63-46f0-d8e4-e3b069a5605c"
      },
      "source": [
        "# Cleaning the texts\n",
        "import nltk\n",
        "import re\n",
        "from nltk.corpus import stopwords\n",
        "from nltk.stem.porter import PorterStemmer\n",
        "from nltk.stem import WordNetLemmatizer\n",
        "\n",
        "stemmer = PorterStemmer()\n",
        "lemmatizer=WordNetLemmatizer()\n",
        "sentences = nltk.sent_tokenize(paragraph)\n",
        "\n",
        "corpus = []\n",
        "for i in range(len(sentences)):\n",
        "    review = re.sub('[^a-zA-Z]', ' ', sentences[i])\n",
        "    review = review.lower()\n",
        "    review = review.split()\n",
        "    review = [lemmatizer.lemmatize(word) for word in review if not word in set(stopwords.words('english'))]\n",
        "    review = ' '.join(review)\n",
        "    corpus.append(review)\n",
        "\n",
        "# Creating the TF-IDF model\n",
        "from sklearn.feature_extraction.text import TfidfVectorizer\n",
        "cv = TfidfVectorizer()\n",
        "T = cv.fit_transform(corpus).toarray()\n",
        "T"
      ],
      "execution_count": null,
      "outputs": [
        {
          "output_type": "execute_result",
          "data": {
            "text/plain": [
              "array([[0.        , 0.        , 0.        , ..., 0.        , 0.        ,\n",
              "        0.        ],\n",
              "       [0.        , 0.        , 0.        , ..., 0.25883507, 0.30512561,\n",
              "        0.        ],\n",
              "       [0.        , 0.28867513, 0.        , ..., 0.        , 0.        ,\n",
              "        0.        ],\n",
              "       ...,\n",
              "       [0.        , 0.        , 0.        , ..., 0.        , 0.        ,\n",
              "        0.        ],\n",
              "       [0.        , 0.        , 0.        , ..., 0.        , 0.        ,\n",
              "        0.        ],\n",
              "       [0.        , 0.        , 0.        , ..., 0.        , 0.        ,\n",
              "        0.        ]])"
            ]
          },
          "metadata": {
            "tags": []
          },
          "execution_count": 11
        }
      ]
    }
  ]
}