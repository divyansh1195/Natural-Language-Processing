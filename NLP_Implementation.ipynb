{
  "nbformat": 4,
  "nbformat_minor": 0,
  "metadata": {
    "colab": {
      "name": "NLP Implementation.ipynb",
      "provenance": [],
      "authorship_tag": "ABX9TyNEJJWLPJBkVxcrtSr3XeMN",
      "include_colab_link": true
    },
    "kernelspec": {
      "name": "python3",
      "display_name": "Python 3"
    }
  },
  "cells": [
    {
      "cell_type": "markdown",
      "metadata": {
        "id": "view-in-github",
        "colab_type": "text"
      },
      "source": [
        "<a href=\"https://colab.research.google.com/github/divyansh1195/Natural-Language-Processing/blob/master/NLP_Implementation.ipynb\" target=\"_parent\"><img src=\"https://colab.research.google.com/assets/colab-badge.svg\" alt=\"Open In Colab\"/></a>"
      ]
    },
    {
      "cell_type": "markdown",
      "metadata": {
        "id": "VA8kjmX-3GP9",
        "colab_type": "text"
      },
      "source": [
        "# **NLP** \n",
        "\n",
        "**This notebook shows implementation of Tokenization, Stemming, Lemmatization, BOW model, TFIDF model, and Word2Vec model for NLP**"
      ]
    },
    {
      "cell_type": "markdown",
      "metadata": {
        "id": "u7IK1VCDUcKg",
        "colab_type": "text"
      },
      "source": [
        "**NLP Tokenization**\n",
        "\n",
        "Tokenization is the process of tokenizing or splitting a string, text into a list of tokens. One can think of token as parts like a word is a token in a sentence, and a sentence is a token in a paragraph."
      ]
    },
    {
      "cell_type": "code",
      "metadata": {
        "id": "B4xzvsBlVbG1",
        "colab_type": "code",
        "colab": {}
      },
      "source": [
        "paragraph = \"\"\"I have three visions for India. In 3000 years of our history, people from all over \n",
        "               the world have come and invaded us, captured our lands, conquered our minds. \n",
        "               From Alexander onwards, the Greeks, the Turks, the Moguls, the Portuguese, the British,\n",
        "               the French, the Dutch, all of them came and looted us, took over what was ours. \n",
        "               Yet we have not done this to any other nation. We have not conquered anyone. \n",
        "               We have not grabbed their land, their culture, \n",
        "               their history and tried to enforce our way of life on them. \n",
        "               Why? Because we respect the freedom of others.That is why my \n",
        "               first vision is that of freedom. I believe that India got its first vision of \n",
        "               this in 1857, when we started the War of Independence. It is this freedom that\n",
        "               we must protect and nurture and build on. If we are not free, no one will respect us.\n",
        "               My second vision for India’s development. For fifty years we have been a developing nation.\n",
        "               It is time we see ourselves as a developed nation. We are among the top 5 nations of the world\n",
        "               in terms of GDP. We have a 10 percent growth rate in most areas. Our poverty levels are falling.\n",
        "               Our achievements are being globally recognised today. Yet we lack the self-confidence to\n",
        "               see ourselves as a developed nation, self-reliant and self-assured. Isn’t this incorrect?\n",
        "               I have a third vision. India must stand up to the world. Because I believe that unless India \n",
        "               stands up to the world, no one will respect us. Only strength respects strength. We must be \n",
        "               strong not only as a military power but also as an economic power. Both must go hand-in-hand. \n",
        "               My good fortune was to have worked with three great minds. Dr. Vikram Sarabhai of the Dept. of \n",
        "               space, Professor Satish Dhawan, who succeeded him and Dr. Brahm Prakash, father of nuclear material.\n",
        "               I was lucky to have worked with all three of them closely and consider this the great opportunity of my life. \n",
        "               I see four milestones in my career\"\"\""
      ],
      "execution_count": 1,
      "outputs": []
    },
    {
      "cell_type": "code",
      "metadata": {
        "id": "le-xxFyXWDwK",
        "colab_type": "code",
        "colab": {}
      },
      "source": [
        "# Tokenization of paragraphs/sentences\n",
        "import nltk"
      ],
      "execution_count": 2,
      "outputs": []
    },
    {
      "cell_type": "code",
      "metadata": {
        "id": "IyRkuaOWWgki",
        "colab_type": "code",
        "colab": {
          "base_uri": "https://localhost:8080/",
          "height": 51
        },
        "outputId": "f4a67afe-400d-4eab-c2fa-8fdd12657200"
      },
      "source": [
        "# Tokenizing sentences (converts paragraph into a list of sentences) \n",
        "nltk.download('punkt')\n",
        "sentences = nltk.sent_tokenize(paragraph)"
      ],
      "execution_count": 3,
      "outputs": [
        {
          "output_type": "stream",
          "text": [
            "[nltk_data] Downloading package punkt to /root/nltk_data...\n",
            "[nltk_data]   Package punkt is already up-to-date!\n"
          ],
          "name": "stdout"
        }
      ]
    },
    {
      "cell_type": "code",
      "metadata": {
        "id": "5Gu5OtoHWw0D",
        "colab_type": "code",
        "colab": {
          "base_uri": "https://localhost:8080/",
          "height": 564
        },
        "outputId": "a55c6072-d199-48b2-f67b-0fd44810dcb8"
      },
      "source": [
        "sentences"
      ],
      "execution_count": 4,
      "outputs": [
        {
          "output_type": "execute_result",
          "data": {
            "text/plain": [
              "['I have three visions for India.',\n",
              " 'In 3000 years of our history, people from all over \\n               the world have come and invaded us, captured our lands, conquered our minds.',\n",
              " 'From Alexander onwards, the Greeks, the Turks, the Moguls, the Portuguese, the British,\\n               the French, the Dutch, all of them came and looted us, took over what was ours.',\n",
              " 'Yet we have not done this to any other nation.',\n",
              " 'We have not conquered anyone.',\n",
              " 'We have not grabbed their land, their culture, \\n               their history and tried to enforce our way of life on them.',\n",
              " 'Why?',\n",
              " 'Because we respect the freedom of others.That is why my \\n               first vision is that of freedom.',\n",
              " 'I believe that India got its first vision of \\n               this in 1857, when we started the War of Independence.',\n",
              " 'It is this freedom that\\n               we must protect and nurture and build on.',\n",
              " 'If we are not free, no one will respect us.',\n",
              " 'My second vision for India’s development.',\n",
              " 'For fifty years we have been a developing nation.',\n",
              " 'It is time we see ourselves as a developed nation.',\n",
              " 'We are among the top 5 nations of the world\\n               in terms of GDP.',\n",
              " 'We have a 10 percent growth rate in most areas.',\n",
              " 'Our poverty levels are falling.',\n",
              " 'Our achievements are being globally recognised today.',\n",
              " 'Yet we lack the self-confidence to\\n               see ourselves as a developed nation, self-reliant and self-assured.',\n",
              " 'Isn’t this incorrect?',\n",
              " 'I have a third vision.',\n",
              " 'India must stand up to the world.',\n",
              " 'Because I believe that unless India \\n               stands up to the world, no one will respect us.',\n",
              " 'Only strength respects strength.',\n",
              " 'We must be \\n               strong not only as a military power but also as an economic power.',\n",
              " 'Both must go hand-in-hand.',\n",
              " 'My good fortune was to have worked with three great minds.',\n",
              " 'Dr. Vikram Sarabhai of the Dept.',\n",
              " 'of \\n               space, Professor Satish Dhawan, who succeeded him and Dr. Brahm Prakash, father of nuclear material.',\n",
              " 'I was lucky to have worked with all three of them closely and consider this the great opportunity of my life.',\n",
              " 'I see four milestones in my career']"
            ]
          },
          "metadata": {
            "tags": []
          },
          "execution_count": 4
        }
      ]
    },
    {
      "cell_type": "code",
      "metadata": {
        "id": "_9OnzEEBW3vc",
        "colab_type": "code",
        "colab": {
          "base_uri": "https://localhost:8080/",
          "height": 1000
        },
        "outputId": "b471eda8-c5be-437c-bd2d-94d4af082236"
      },
      "source": [
        "# Tokenizing words(converts paragraph into a list of words)\n",
        "words = nltk.word_tokenize(paragraph)\n",
        "words\n",
        "#even punctuation marks, comma etc. are consideed as a word and with this the paragraph is converted into a list of words "
      ],
      "execution_count": 5,
      "outputs": [
        {
          "output_type": "execute_result",
          "data": {
            "text/plain": [
              "['I',\n",
              " 'have',\n",
              " 'three',\n",
              " 'visions',\n",
              " 'for',\n",
              " 'India',\n",
              " '.',\n",
              " 'In',\n",
              " '3000',\n",
              " 'years',\n",
              " 'of',\n",
              " 'our',\n",
              " 'history',\n",
              " ',',\n",
              " 'people',\n",
              " 'from',\n",
              " 'all',\n",
              " 'over',\n",
              " 'the',\n",
              " 'world',\n",
              " 'have',\n",
              " 'come',\n",
              " 'and',\n",
              " 'invaded',\n",
              " 'us',\n",
              " ',',\n",
              " 'captured',\n",
              " 'our',\n",
              " 'lands',\n",
              " ',',\n",
              " 'conquered',\n",
              " 'our',\n",
              " 'minds',\n",
              " '.',\n",
              " 'From',\n",
              " 'Alexander',\n",
              " 'onwards',\n",
              " ',',\n",
              " 'the',\n",
              " 'Greeks',\n",
              " ',',\n",
              " 'the',\n",
              " 'Turks',\n",
              " ',',\n",
              " 'the',\n",
              " 'Moguls',\n",
              " ',',\n",
              " 'the',\n",
              " 'Portuguese',\n",
              " ',',\n",
              " 'the',\n",
              " 'British',\n",
              " ',',\n",
              " 'the',\n",
              " 'French',\n",
              " ',',\n",
              " 'the',\n",
              " 'Dutch',\n",
              " ',',\n",
              " 'all',\n",
              " 'of',\n",
              " 'them',\n",
              " 'came',\n",
              " 'and',\n",
              " 'looted',\n",
              " 'us',\n",
              " ',',\n",
              " 'took',\n",
              " 'over',\n",
              " 'what',\n",
              " 'was',\n",
              " 'ours',\n",
              " '.',\n",
              " 'Yet',\n",
              " 'we',\n",
              " 'have',\n",
              " 'not',\n",
              " 'done',\n",
              " 'this',\n",
              " 'to',\n",
              " 'any',\n",
              " 'other',\n",
              " 'nation',\n",
              " '.',\n",
              " 'We',\n",
              " 'have',\n",
              " 'not',\n",
              " 'conquered',\n",
              " 'anyone',\n",
              " '.',\n",
              " 'We',\n",
              " 'have',\n",
              " 'not',\n",
              " 'grabbed',\n",
              " 'their',\n",
              " 'land',\n",
              " ',',\n",
              " 'their',\n",
              " 'culture',\n",
              " ',',\n",
              " 'their',\n",
              " 'history',\n",
              " 'and',\n",
              " 'tried',\n",
              " 'to',\n",
              " 'enforce',\n",
              " 'our',\n",
              " 'way',\n",
              " 'of',\n",
              " 'life',\n",
              " 'on',\n",
              " 'them',\n",
              " '.',\n",
              " 'Why',\n",
              " '?',\n",
              " 'Because',\n",
              " 'we',\n",
              " 'respect',\n",
              " 'the',\n",
              " 'freedom',\n",
              " 'of',\n",
              " 'others.That',\n",
              " 'is',\n",
              " 'why',\n",
              " 'my',\n",
              " 'first',\n",
              " 'vision',\n",
              " 'is',\n",
              " 'that',\n",
              " 'of',\n",
              " 'freedom',\n",
              " '.',\n",
              " 'I',\n",
              " 'believe',\n",
              " 'that',\n",
              " 'India',\n",
              " 'got',\n",
              " 'its',\n",
              " 'first',\n",
              " 'vision',\n",
              " 'of',\n",
              " 'this',\n",
              " 'in',\n",
              " '1857',\n",
              " ',',\n",
              " 'when',\n",
              " 'we',\n",
              " 'started',\n",
              " 'the',\n",
              " 'War',\n",
              " 'of',\n",
              " 'Independence',\n",
              " '.',\n",
              " 'It',\n",
              " 'is',\n",
              " 'this',\n",
              " 'freedom',\n",
              " 'that',\n",
              " 'we',\n",
              " 'must',\n",
              " 'protect',\n",
              " 'and',\n",
              " 'nurture',\n",
              " 'and',\n",
              " 'build',\n",
              " 'on',\n",
              " '.',\n",
              " 'If',\n",
              " 'we',\n",
              " 'are',\n",
              " 'not',\n",
              " 'free',\n",
              " ',',\n",
              " 'no',\n",
              " 'one',\n",
              " 'will',\n",
              " 'respect',\n",
              " 'us',\n",
              " '.',\n",
              " 'My',\n",
              " 'second',\n",
              " 'vision',\n",
              " 'for',\n",
              " 'India',\n",
              " '’',\n",
              " 's',\n",
              " 'development',\n",
              " '.',\n",
              " 'For',\n",
              " 'fifty',\n",
              " 'years',\n",
              " 'we',\n",
              " 'have',\n",
              " 'been',\n",
              " 'a',\n",
              " 'developing',\n",
              " 'nation',\n",
              " '.',\n",
              " 'It',\n",
              " 'is',\n",
              " 'time',\n",
              " 'we',\n",
              " 'see',\n",
              " 'ourselves',\n",
              " 'as',\n",
              " 'a',\n",
              " 'developed',\n",
              " 'nation',\n",
              " '.',\n",
              " 'We',\n",
              " 'are',\n",
              " 'among',\n",
              " 'the',\n",
              " 'top',\n",
              " '5',\n",
              " 'nations',\n",
              " 'of',\n",
              " 'the',\n",
              " 'world',\n",
              " 'in',\n",
              " 'terms',\n",
              " 'of',\n",
              " 'GDP',\n",
              " '.',\n",
              " 'We',\n",
              " 'have',\n",
              " 'a',\n",
              " '10',\n",
              " 'percent',\n",
              " 'growth',\n",
              " 'rate',\n",
              " 'in',\n",
              " 'most',\n",
              " 'areas',\n",
              " '.',\n",
              " 'Our',\n",
              " 'poverty',\n",
              " 'levels',\n",
              " 'are',\n",
              " 'falling',\n",
              " '.',\n",
              " 'Our',\n",
              " 'achievements',\n",
              " 'are',\n",
              " 'being',\n",
              " 'globally',\n",
              " 'recognised',\n",
              " 'today',\n",
              " '.',\n",
              " 'Yet',\n",
              " 'we',\n",
              " 'lack',\n",
              " 'the',\n",
              " 'self-confidence',\n",
              " 'to',\n",
              " 'see',\n",
              " 'ourselves',\n",
              " 'as',\n",
              " 'a',\n",
              " 'developed',\n",
              " 'nation',\n",
              " ',',\n",
              " 'self-reliant',\n",
              " 'and',\n",
              " 'self-assured',\n",
              " '.',\n",
              " 'Isn',\n",
              " '’',\n",
              " 't',\n",
              " 'this',\n",
              " 'incorrect',\n",
              " '?',\n",
              " 'I',\n",
              " 'have',\n",
              " 'a',\n",
              " 'third',\n",
              " 'vision',\n",
              " '.',\n",
              " 'India',\n",
              " 'must',\n",
              " 'stand',\n",
              " 'up',\n",
              " 'to',\n",
              " 'the',\n",
              " 'world',\n",
              " '.',\n",
              " 'Because',\n",
              " 'I',\n",
              " 'believe',\n",
              " 'that',\n",
              " 'unless',\n",
              " 'India',\n",
              " 'stands',\n",
              " 'up',\n",
              " 'to',\n",
              " 'the',\n",
              " 'world',\n",
              " ',',\n",
              " 'no',\n",
              " 'one',\n",
              " 'will',\n",
              " 'respect',\n",
              " 'us',\n",
              " '.',\n",
              " 'Only',\n",
              " 'strength',\n",
              " 'respects',\n",
              " 'strength',\n",
              " '.',\n",
              " 'We',\n",
              " 'must',\n",
              " 'be',\n",
              " 'strong',\n",
              " 'not',\n",
              " 'only',\n",
              " 'as',\n",
              " 'a',\n",
              " 'military',\n",
              " 'power',\n",
              " 'but',\n",
              " 'also',\n",
              " 'as',\n",
              " 'an',\n",
              " 'economic',\n",
              " 'power',\n",
              " '.',\n",
              " 'Both',\n",
              " 'must',\n",
              " 'go',\n",
              " 'hand-in-hand',\n",
              " '.',\n",
              " 'My',\n",
              " 'good',\n",
              " 'fortune',\n",
              " 'was',\n",
              " 'to',\n",
              " 'have',\n",
              " 'worked',\n",
              " 'with',\n",
              " 'three',\n",
              " 'great',\n",
              " 'minds',\n",
              " '.',\n",
              " 'Dr.',\n",
              " 'Vikram',\n",
              " 'Sarabhai',\n",
              " 'of',\n",
              " 'the',\n",
              " 'Dept',\n",
              " '.',\n",
              " 'of',\n",
              " 'space',\n",
              " ',',\n",
              " 'Professor',\n",
              " 'Satish',\n",
              " 'Dhawan',\n",
              " ',',\n",
              " 'who',\n",
              " 'succeeded',\n",
              " 'him',\n",
              " 'and',\n",
              " 'Dr.',\n",
              " 'Brahm',\n",
              " 'Prakash',\n",
              " ',',\n",
              " 'father',\n",
              " 'of',\n",
              " 'nuclear',\n",
              " 'material',\n",
              " '.',\n",
              " 'I',\n",
              " 'was',\n",
              " 'lucky',\n",
              " 'to',\n",
              " 'have',\n",
              " 'worked',\n",
              " 'with',\n",
              " 'all',\n",
              " 'three',\n",
              " 'of',\n",
              " 'them',\n",
              " 'closely',\n",
              " 'and',\n",
              " 'consider',\n",
              " 'this',\n",
              " 'the',\n",
              " 'great',\n",
              " 'opportunity',\n",
              " 'of',\n",
              " 'my',\n",
              " 'life',\n",
              " '.',\n",
              " 'I',\n",
              " 'see',\n",
              " 'four',\n",
              " 'milestones',\n",
              " 'in',\n",
              " 'my',\n",
              " 'career']"
            ]
          },
          "metadata": {
            "tags": []
          },
          "execution_count": 5
        }
      ]
    },
    {
      "cell_type": "markdown",
      "metadata": {
        "id": "D04yIk36Xc9-",
        "colab_type": "text"
      },
      "source": [
        "**Stemming and Lemmatization**\n",
        "\n",
        "Stemming may or may not give meaningful representation whereas Lemmatization gives meaningful representaion and it takes more time than Stemming.\n",
        "Stemming examples->Sentiment Analysis, gmail spam classifier\n",
        "Lemmatization examples->Chat Bots, Q-A applications "
      ]
    },
    {
      "cell_type": "markdown",
      "metadata": {
        "id": "ChopC-J-ivz0",
        "colab_type": "text"
      },
      "source": [
        "Stemming"
      ]
    },
    {
      "cell_type": "code",
      "metadata": {
        "id": "7aEgnbqtaPFS",
        "colab_type": "code",
        "colab": {
          "base_uri": "https://localhost:8080/",
          "height": 51
        },
        "outputId": "5c4a97e5-d549-4030-8963-70bf488315d6"
      },
      "source": [
        "import nltk\n",
        "nltk.download('stopwords')\n",
        "from nltk.stem import PorterStemmer\n",
        "from nltk.corpus import stopwords\n",
        "#Stopwords are the words in any language which does not add much meaning to a sentence. They can safely be ignored without sacrificing the meaning of the sentence."
      ],
      "execution_count": 6,
      "outputs": [
        {
          "output_type": "stream",
          "text": [
            "[nltk_data] Downloading package stopwords to /root/nltk_data...\n",
            "[nltk_data]   Package stopwords is already up-to-date!\n"
          ],
          "name": "stdout"
        }
      ]
    },
    {
      "cell_type": "code",
      "metadata": {
        "id": "fnTCaewtabOY",
        "colab_type": "code",
        "colab": {
          "base_uri": "https://localhost:8080/",
          "height": 544
        },
        "outputId": "4a0b35ec-7e88-487d-a620-303228aa43a5"
      },
      "source": [
        "stemmer = PorterStemmer()\n",
        "sentences = nltk.sent_tokenize(paragraph)\n",
        "# Stemming\n",
        "for i in range(len(sentences)):\n",
        "    words = nltk.word_tokenize(sentences[i])\n",
        "    words = [stemmer.stem(word) for word in words if word not in set(stopwords.words('english'))]\n",
        "    sentences[i] = ' '.join(words)   \n",
        "sentences"
      ],
      "execution_count": 7,
      "outputs": [
        {
          "output_type": "execute_result",
          "data": {
            "text/plain": [
              "['I three vision india .',\n",
              " 'In 3000 year histori , peopl world come invad us , captur land , conquer mind .',\n",
              " 'from alexand onward , greek , turk , mogul , portugues , british , french , dutch , came loot us , took .',\n",
              " 'yet done nation .',\n",
              " 'We conquer anyon .',\n",
              " 'We grab land , cultur , histori tri enforc way life .',\n",
              " 'whi ?',\n",
              " 'becaus respect freedom others.that first vision freedom .',\n",
              " 'I believ india got first vision 1857 , start war independ .',\n",
              " 'It freedom must protect nurtur build .',\n",
              " 'If free , one respect us .',\n",
              " 'My second vision india ’ develop .',\n",
              " 'for fifti year develop nation .',\n",
              " 'It time see develop nation .',\n",
              " 'We among top 5 nation world term gdp .',\n",
              " 'We 10 percent growth rate area .',\n",
              " 'our poverti level fall .',\n",
              " 'our achiev global recognis today .',\n",
              " 'yet lack self-confid see develop nation , self-reli self-assur .',\n",
              " 'isn ’ incorrect ?',\n",
              " 'I third vision .',\n",
              " 'india must stand world .',\n",
              " 'becaus I believ unless india stand world , one respect us .',\n",
              " 'onli strength respect strength .',\n",
              " 'We must strong militari power also econom power .',\n",
              " 'both must go hand-in-hand .',\n",
              " 'My good fortun work three great mind .',\n",
              " 'dr. vikram sarabhai dept .',\n",
              " 'space , professor satish dhawan , succeed dr. brahm prakash , father nuclear materi .',\n",
              " 'I lucki work three close consid great opportun life .',\n",
              " 'I see four mileston career']"
            ]
          },
          "metadata": {
            "tags": []
          },
          "execution_count": 7
        }
      ]
    },
    {
      "cell_type": "markdown",
      "metadata": {
        "id": "vlLFuFsaipty",
        "colab_type": "text"
      },
      "source": [
        "Lemmatization"
      ]
    },
    {
      "cell_type": "code",
      "metadata": {
        "id": "184bKcyLiseU",
        "colab_type": "code",
        "colab": {
          "base_uri": "https://localhost:8080/",
          "height": 85
        },
        "outputId": "a5f0bd5c-0677-4e92-f7fc-e3d5a33697ab"
      },
      "source": [
        "import nltk\n",
        "nltk.download('stopwords')\n",
        "nltk.download('wordnet')\n",
        "from nltk.stem import WordNetLemmatizer\n",
        "from nltk.corpus import stopwords"
      ],
      "execution_count": 8,
      "outputs": [
        {
          "output_type": "stream",
          "text": [
            "[nltk_data] Downloading package stopwords to /root/nltk_data...\n",
            "[nltk_data]   Package stopwords is already up-to-date!\n",
            "[nltk_data] Downloading package wordnet to /root/nltk_data...\n",
            "[nltk_data]   Package wordnet is already up-to-date!\n"
          ],
          "name": "stdout"
        }
      ]
    },
    {
      "cell_type": "code",
      "metadata": {
        "id": "OQctX6L9lCX_",
        "colab_type": "code",
        "colab": {
          "base_uri": "https://localhost:8080/",
          "height": 544
        },
        "outputId": "85bf0769-da0d-4047-fb65-c9d1b6031a80"
      },
      "source": [
        "sentences = nltk.sent_tokenize(paragraph)\n",
        "lemmatizer = WordNetLemmatizer()\n",
        "# Lemmatization\n",
        "for i in range(len(sentences)):\n",
        "    words = nltk.word_tokenize(sentences[i])\n",
        "    words = [lemmatizer.lemmatize(word) for word in words if word not in set(stopwords.words('english'))]\n",
        "    sentences[i] = ' '.join(words)   \n",
        "sentences"
      ],
      "execution_count": 9,
      "outputs": [
        {
          "output_type": "execute_result",
          "data": {
            "text/plain": [
              "['I three vision India .',\n",
              " 'In 3000 year history , people world come invaded u , captured land , conquered mind .',\n",
              " 'From Alexander onwards , Greeks , Turks , Moguls , Portuguese , British , French , Dutch , came looted u , took .',\n",
              " 'Yet done nation .',\n",
              " 'We conquered anyone .',\n",
              " 'We grabbed land , culture , history tried enforce way life .',\n",
              " 'Why ?',\n",
              " 'Because respect freedom others.That first vision freedom .',\n",
              " 'I believe India got first vision 1857 , started War Independence .',\n",
              " 'It freedom must protect nurture build .',\n",
              " 'If free , one respect u .',\n",
              " 'My second vision India ’ development .',\n",
              " 'For fifty year developing nation .',\n",
              " 'It time see developed nation .',\n",
              " 'We among top 5 nation world term GDP .',\n",
              " 'We 10 percent growth rate area .',\n",
              " 'Our poverty level falling .',\n",
              " 'Our achievement globally recognised today .',\n",
              " 'Yet lack self-confidence see developed nation , self-reliant self-assured .',\n",
              " 'Isn ’ incorrect ?',\n",
              " 'I third vision .',\n",
              " 'India must stand world .',\n",
              " 'Because I believe unless India stand world , one respect u .',\n",
              " 'Only strength respect strength .',\n",
              " 'We must strong military power also economic power .',\n",
              " 'Both must go hand-in-hand .',\n",
              " 'My good fortune worked three great mind .',\n",
              " 'Dr. Vikram Sarabhai Dept .',\n",
              " 'space , Professor Satish Dhawan , succeeded Dr. Brahm Prakash , father nuclear material .',\n",
              " 'I lucky worked three closely consider great opportunity life .',\n",
              " 'I see four milestone career']"
            ]
          },
          "metadata": {
            "tags": []
          },
          "execution_count": 9
        }
      ]
    },
    {
      "cell_type": "markdown",
      "metadata": {
        "id": "DXzR_M5pnPM0",
        "colab_type": "text"
      },
      "source": [
        "**BAG OF WORDS MODEL**\n",
        "\n",
        "Bag of Words (BOW) is a method to extract features from text documents. It creates a vocabulary of all the unique words occurring in all the documents.\n",
        "\n",
        " Simply, it’s a collection of words to represent a sentence with word count and mostly disregarding the order in which they appear.\n",
        "\n"
      ]
    },
    {
      "cell_type": "code",
      "metadata": {
        "id": "lo7oxbnVnS7t",
        "colab_type": "code",
        "colab": {
          "base_uri": "https://localhost:8080/",
          "height": 136
        },
        "outputId": "fb4386ed-2611-4c83-e0b7-a3bb742ad454"
      },
      "source": [
        "# Cleaning the Text\n",
        "import nltk\n",
        "import re\n",
        "from nltk.corpus import stopwords\n",
        "from nltk.stem.porter import PorterStemmer\n",
        "from nltk.stem import WordNetLemmatizer\n",
        "\n",
        "stemmer = PorterStemmer()\n",
        "lemmatizer = WordNetLemmatizer()\n",
        "sentences = nltk.sent_tokenize(paragraph)\n",
        "\n",
        "corpus = []\n",
        "for i in range(len(sentences)):\n",
        "    review = re.sub('[^a-zA-Z]', ' ', sentences[i])\n",
        "    review = review.lower()\n",
        "    review = review.split()\n",
        "    review = [lemmatizer.lemmatize(word) for word in review if not word in set(stopwords.words('english'))]\n",
        "    review = ' '.join(review)\n",
        "    corpus.append(review)\n",
        "\n",
        "# Creating the Bag of Words model\n",
        "from sklearn.feature_extraction.text import CountVectorizer\n",
        "cv = CountVectorizer(max_features = 1500)\n",
        "X = cv.fit_transform(corpus).toarray()\n",
        "X"
      ],
      "execution_count": 10,
      "outputs": [
        {
          "output_type": "execute_result",
          "data": {
            "text/plain": [
              "array([[0, 0, 0, ..., 0, 0, 0],\n",
              "       [0, 0, 0, ..., 1, 1, 0],\n",
              "       [0, 1, 0, ..., 0, 0, 0],\n",
              "       ...,\n",
              "       [0, 0, 0, ..., 0, 0, 0],\n",
              "       [0, 0, 0, ..., 0, 0, 0],\n",
              "       [0, 0, 0, ..., 0, 0, 0]])"
            ]
          },
          "metadata": {
            "tags": []
          },
          "execution_count": 10
        }
      ]
    },
    {
      "cell_type": "markdown",
      "metadata": {
        "id": "adlDZvq7ZQv0",
        "colab_type": "text"
      },
      "source": [
        "**TF-IDF (Term Frequency and Inverse Dominant Frequency)**\n",
        "\n",
        "This provides semantic meaning in each and every sentences as opposed to BOW model which doesn't and convert a collection of raw documents to a matrix of TF-IDF features."
      ]
    },
    {
      "cell_type": "code",
      "metadata": {
        "id": "AZPKgK-1Zosb",
        "colab_type": "code",
        "colab": {
          "base_uri": "https://localhost:8080/",
          "height": 238
        },
        "outputId": "145a0c1a-eb7f-45d0-c6d7-77fedb9d6a2a"
      },
      "source": [
        "# Cleaning the texts\n",
        "import nltk\n",
        "import re\n",
        "from nltk.corpus import stopwords\n",
        "from nltk.stem.porter import PorterStemmer\n",
        "from nltk.stem import WordNetLemmatizer\n",
        "\n",
        "stemmer = PorterStemmer()\n",
        "lemmatizer=WordNetLemmatizer()\n",
        "sentences = nltk.sent_tokenize(paragraph)\n",
        "\n",
        "corpus = []\n",
        "for i in range(len(sentences)):\n",
        "    review = re.sub('[^a-zA-Z]', ' ', sentences[i])\n",
        "    review = review.lower()\n",
        "    review = review.split()\n",
        "    review = [lemmatizer.lemmatize(word) for word in review if not word in set(stopwords.words('english'))]\n",
        "    review = ' '.join(review)\n",
        "    corpus.append(review)\n",
        "\n",
        "# Creating the TF-IDF model\n",
        "from sklearn.feature_extraction.text import TfidfVectorizer\n",
        "cv = TfidfVectorizer()\n",
        "T = cv.fit_transform(corpus).toarray()\n",
        "T"
      ],
      "execution_count": 11,
      "outputs": [
        {
          "output_type": "execute_result",
          "data": {
            "text/plain": [
              "array([[0.        , 0.        , 0.        , ..., 0.        , 0.        ,\n",
              "        0.        ],\n",
              "       [0.        , 0.        , 0.        , ..., 0.25883507, 0.30512561,\n",
              "        0.        ],\n",
              "       [0.        , 0.28867513, 0.        , ..., 0.        , 0.        ,\n",
              "        0.        ],\n",
              "       ...,\n",
              "       [0.        , 0.        , 0.        , ..., 0.        , 0.        ,\n",
              "        0.        ],\n",
              "       [0.        , 0.        , 0.        , ..., 0.        , 0.        ,\n",
              "        0.        ],\n",
              "       [0.        , 0.        , 0.        , ..., 0.        , 0.        ,\n",
              "        0.        ]])"
            ]
          },
          "metadata": {
            "tags": []
          },
          "execution_count": 11
        }
      ]
    },
    {
      "cell_type": "code",
      "metadata": {
        "id": "urrVVn3k05oI",
        "colab_type": "code",
        "colab": {
          "base_uri": "https://localhost:8080/",
          "height": 564
        },
        "outputId": "43bfc033-0325-47cf-c005-b613d3c37c8f"
      },
      "source": [
        "sentences"
      ],
      "execution_count": 12,
      "outputs": [
        {
          "output_type": "execute_result",
          "data": {
            "text/plain": [
              "['I have three visions for India.',\n",
              " 'In 3000 years of our history, people from all over \\n               the world have come and invaded us, captured our lands, conquered our minds.',\n",
              " 'From Alexander onwards, the Greeks, the Turks, the Moguls, the Portuguese, the British,\\n               the French, the Dutch, all of them came and looted us, took over what was ours.',\n",
              " 'Yet we have not done this to any other nation.',\n",
              " 'We have not conquered anyone.',\n",
              " 'We have not grabbed their land, their culture, \\n               their history and tried to enforce our way of life on them.',\n",
              " 'Why?',\n",
              " 'Because we respect the freedom of others.That is why my \\n               first vision is that of freedom.',\n",
              " 'I believe that India got its first vision of \\n               this in 1857, when we started the War of Independence.',\n",
              " 'It is this freedom that\\n               we must protect and nurture and build on.',\n",
              " 'If we are not free, no one will respect us.',\n",
              " 'My second vision for India’s development.',\n",
              " 'For fifty years we have been a developing nation.',\n",
              " 'It is time we see ourselves as a developed nation.',\n",
              " 'We are among the top 5 nations of the world\\n               in terms of GDP.',\n",
              " 'We have a 10 percent growth rate in most areas.',\n",
              " 'Our poverty levels are falling.',\n",
              " 'Our achievements are being globally recognised today.',\n",
              " 'Yet we lack the self-confidence to\\n               see ourselves as a developed nation, self-reliant and self-assured.',\n",
              " 'Isn’t this incorrect?',\n",
              " 'I have a third vision.',\n",
              " 'India must stand up to the world.',\n",
              " 'Because I believe that unless India \\n               stands up to the world, no one will respect us.',\n",
              " 'Only strength respects strength.',\n",
              " 'We must be \\n               strong not only as a military power but also as an economic power.',\n",
              " 'Both must go hand-in-hand.',\n",
              " 'My good fortune was to have worked with three great minds.',\n",
              " 'Dr. Vikram Sarabhai of the Dept.',\n",
              " 'of \\n               space, Professor Satish Dhawan, who succeeded him and Dr. Brahm Prakash, father of nuclear material.',\n",
              " 'I was lucky to have worked with all three of them closely and consider this the great opportunity of my life.',\n",
              " 'I see four milestones in my career']"
            ]
          },
          "metadata": {
            "tags": []
          },
          "execution_count": 12
        }
      ]
    },
    {
      "cell_type": "markdown",
      "metadata": {
        "id": "u9_3_KMsAxGp",
        "colab_type": "text"
      },
      "source": [
        "**Word2Vec**"
      ]
    },
    {
      "cell_type": "markdown",
      "metadata": {
        "id": "-gGt4YJhGjii",
        "colab_type": "text"
      },
      "source": [
        "In both BOW and TFIDF, semantic information is not stored. TFIDF gives importance to uncommon words and this could lead to over-fitting.\n",
        "\n",
        "In Word2Vec, each word is represented as a vector of 32 or more dimension instaed of a single no. So, semantic information and relationship b/w words is preserved.   "
      ]
    },
    {
      "cell_type": "code",
      "metadata": {
        "id": "IVX6E_6TAzn9",
        "colab_type": "code",
        "colab": {}
      },
      "source": [
        "import re\n",
        "import nltk\n",
        "from gensim.models import Word2Vec\n",
        "from nltk.corpus import stopwords"
      ],
      "execution_count": 13,
      "outputs": []
    },
    {
      "cell_type": "code",
      "metadata": {
        "id": "Txq9-9gcJEKu",
        "colab_type": "code",
        "colab": {
          "base_uri": "https://localhost:8080/",
          "height": 137
        },
        "outputId": "d3ab018b-1642-49eb-861c-0040a9a3aece"
      },
      "source": [
        "# Cleaning the text Part 1\n",
        "text = re.sub(r'\\[[0-9]*\\]',' ',paragraph)\n",
        "text = re.sub(r'\\s+',' ',text)#removes spaces from the text \n",
        "text = text.lower()#lowers all capital letters to small letters\n",
        "text = re.sub(r'\\d',' ',text)#removes numeric letters from text\n",
        "text = re.sub(r'\\s+',' ',text)# removes spaces from text\n",
        "text"
      ],
      "execution_count": 14,
      "outputs": [
        {
          "output_type": "execute_result",
          "data": {
            "application/vnd.google.colaboratory.intrinsic+json": {
              "type": "string"
            },
            "text/plain": [
              "'i have three visions for india. in years of our history, people from all over the world have come and invaded us, captured our lands, conquered our minds. from alexander onwards, the greeks, the turks, the moguls, the portuguese, the british, the french, the dutch, all of them came and looted us, took over what was ours. yet we have not done this to any other nation. we have not conquered anyone. we have not grabbed their land, their culture, their history and tried to enforce our way of life on them. why? because we respect the freedom of others.that is why my first vision is that of freedom. i believe that india got its first vision of this in , when we started the war of independence. it is this freedom that we must protect and nurture and build on. if we are not free, no one will respect us. my second vision for india’s development. for fifty years we have been a developing nation. it is time we see ourselves as a developed nation. we are among the top nations of the world in terms of gdp. we have a percent growth rate in most areas. our poverty levels are falling. our achievements are being globally recognised today. yet we lack the self-confidence to see ourselves as a developed nation, self-reliant and self-assured. isn’t this incorrect? i have a third vision. india must stand up to the world. because i believe that unless india stands up to the world, no one will respect us. only strength respects strength. we must be strong not only as a military power but also as an economic power. both must go hand-in-hand. my good fortune was to have worked with three great minds. dr. vikram sarabhai of the dept. of space, professor satish dhawan, who succeeded him and dr. brahm prakash, father of nuclear material. i was lucky to have worked with all three of them closely and consider this the great opportunity of my life. i see four milestones in my career'"
            ]
          },
          "metadata": {
            "tags": []
          },
          "execution_count": 14
        }
      ]
    },
    {
      "cell_type": "code",
      "metadata": {
        "id": "kGLkg-yerbo3",
        "colab_type": "code",
        "colab": {
          "base_uri": "https://localhost:8080/",
          "height": 137
        },
        "outputId": "ecd6874b-5bf4-480b-f99f-68797aaa8071"
      },
      "source": [
        "paragraph \n",
        "#comparison with original text"
      ],
      "execution_count": 15,
      "outputs": [
        {
          "output_type": "execute_result",
          "data": {
            "application/vnd.google.colaboratory.intrinsic+json": {
              "type": "string"
            },
            "text/plain": [
              "'I have three visions for India. In 3000 years of our history, people from all over \\n               the world have come and invaded us, captured our lands, conquered our minds. \\n               From Alexander onwards, the Greeks, the Turks, the Moguls, the Portuguese, the British,\\n               the French, the Dutch, all of them came and looted us, took over what was ours. \\n               Yet we have not done this to any other nation. We have not conquered anyone. \\n               We have not grabbed their land, their culture, \\n               their history and tried to enforce our way of life on them. \\n               Why? Because we respect the freedom of others.That is why my \\n               first vision is that of freedom. I believe that India got its first vision of \\n               this in 1857, when we started the War of Independence. It is this freedom that\\n               we must protect and nurture and build on. If we are not free, no one will respect us.\\n               My second vision for India’s development. For fifty years we have been a developing nation.\\n               It is time we see ourselves as a developed nation. We are among the top 5 nations of the world\\n               in terms of GDP. We have a 10 percent growth rate in most areas. Our poverty levels are falling.\\n               Our achievements are being globally recognised today. Yet we lack the self-confidence to\\n               see ourselves as a developed nation, self-reliant and self-assured. Isn’t this incorrect?\\n               I have a third vision. India must stand up to the world. Because I believe that unless India \\n               stands up to the world, no one will respect us. Only strength respects strength. We must be \\n               strong not only as a military power but also as an economic power. Both must go hand-in-hand. \\n               My good fortune was to have worked with three great minds. Dr. Vikram Sarabhai of the Dept. of \\n               space, Professor Satish Dhawan, who succeeded him and Dr. Brahm Prakash, father of nuclear material.\\n               I was lucky to have worked with all three of them closely and consider this the great opportunity of my life. \\n               I see four milestones in my career'"
            ]
          },
          "metadata": {
            "tags": []
          },
          "execution_count": 15
        }
      ]
    },
    {
      "cell_type": "code",
      "metadata": {
        "id": "r5ioOF2wJc6w",
        "colab_type": "code",
        "colab": {
          "base_uri": "https://localhost:8080/",
          "height": 1000
        },
        "outputId": "bda2840a-1f5c-4ace-a69b-d1460890c2bf"
      },
      "source": [
        "# Cleaning the text Part 2\n",
        "sentences = nltk.sent_tokenize(text)\n",
        "sentences = [nltk.word_tokenize(sentence) for sentence in sentences]\n",
        "for i in range(len(sentences)):\n",
        "    sentences[i] = [word for word in sentences[i] if word not in stopwords.words('english')]\n",
        "sentences"
      ],
      "execution_count": 16,
      "outputs": [
        {
          "output_type": "execute_result",
          "data": {
            "text/plain": [
              "[['three', 'visions', 'india', '.'],\n",
              " ['years',\n",
              "  'history',\n",
              "  ',',\n",
              "  'people',\n",
              "  'world',\n",
              "  'come',\n",
              "  'invaded',\n",
              "  'us',\n",
              "  ',',\n",
              "  'captured',\n",
              "  'lands',\n",
              "  ',',\n",
              "  'conquered',\n",
              "  'minds',\n",
              "  '.'],\n",
              " ['alexander',\n",
              "  'onwards',\n",
              "  ',',\n",
              "  'greeks',\n",
              "  ',',\n",
              "  'turks',\n",
              "  ',',\n",
              "  'moguls',\n",
              "  ',',\n",
              "  'portuguese',\n",
              "  ',',\n",
              "  'british',\n",
              "  ',',\n",
              "  'french',\n",
              "  ',',\n",
              "  'dutch',\n",
              "  ',',\n",
              "  'came',\n",
              "  'looted',\n",
              "  'us',\n",
              "  ',',\n",
              "  'took',\n",
              "  '.'],\n",
              " ['yet', 'done', 'nation', '.'],\n",
              " ['conquered', 'anyone', '.'],\n",
              " ['grabbed',\n",
              "  'land',\n",
              "  ',',\n",
              "  'culture',\n",
              "  ',',\n",
              "  'history',\n",
              "  'tried',\n",
              "  'enforce',\n",
              "  'way',\n",
              "  'life',\n",
              "  '.'],\n",
              " ['?'],\n",
              " ['respect', 'freedom', 'others.that', 'first', 'vision', 'freedom', '.'],\n",
              " ['believe',\n",
              "  'india',\n",
              "  'got',\n",
              "  'first',\n",
              "  'vision',\n",
              "  ',',\n",
              "  'started',\n",
              "  'war',\n",
              "  'independence',\n",
              "  '.'],\n",
              " ['freedom', 'must', 'protect', 'nurture', 'build', '.'],\n",
              " ['free', ',', 'one', 'respect', 'us', '.'],\n",
              " ['second', 'vision', 'india', '’', 'development', '.'],\n",
              " ['fifty', 'years', 'developing', 'nation', '.'],\n",
              " ['time', 'see', 'developed', 'nation', '.'],\n",
              " ['among', 'top', 'nations', 'world', 'terms', 'gdp', '.'],\n",
              " ['percent', 'growth', 'rate', 'areas', '.'],\n",
              " ['poverty', 'levels', 'falling', '.'],\n",
              " ['achievements', 'globally', 'recognised', 'today', '.'],\n",
              " ['yet',\n",
              "  'lack',\n",
              "  'self-confidence',\n",
              "  'see',\n",
              "  'developed',\n",
              "  'nation',\n",
              "  ',',\n",
              "  'self-reliant',\n",
              "  'self-assured',\n",
              "  '.'],\n",
              " ['’', 'incorrect', '?'],\n",
              " ['third', 'vision', '.'],\n",
              " ['india', 'must', 'stand', 'world', '.'],\n",
              " ['believe',\n",
              "  'unless',\n",
              "  'india',\n",
              "  'stands',\n",
              "  'world',\n",
              "  ',',\n",
              "  'one',\n",
              "  'respect',\n",
              "  'us',\n",
              "  '.'],\n",
              " ['strength', 'respects', 'strength', '.'],\n",
              " ['must', 'strong', 'military', 'power', 'also', 'economic', 'power', '.'],\n",
              " ['must', 'go', 'hand-in-hand', '.'],\n",
              " ['good', 'fortune', 'worked', 'three', 'great', 'minds', '.'],\n",
              " ['dr.', 'vikram', 'sarabhai', 'dept', '.'],\n",
              " ['space',\n",
              "  ',',\n",
              "  'professor',\n",
              "  'satish',\n",
              "  'dhawan',\n",
              "  ',',\n",
              "  'succeeded',\n",
              "  'dr.',\n",
              "  'brahm',\n",
              "  'prakash',\n",
              "  ',',\n",
              "  'father',\n",
              "  'nuclear',\n",
              "  'material',\n",
              "  '.'],\n",
              " ['lucky',\n",
              "  'worked',\n",
              "  'three',\n",
              "  'closely',\n",
              "  'consider',\n",
              "  'great',\n",
              "  'opportunity',\n",
              "  'life',\n",
              "  '.'],\n",
              " ['see', 'four', 'milestones', 'career']]"
            ]
          },
          "metadata": {
            "tags": []
          },
          "execution_count": 16
        }
      ]
    },
    {
      "cell_type": "code",
      "metadata": {
        "id": "hf03ft2JJhAp",
        "colab_type": "code",
        "colab": {
          "base_uri": "https://localhost:8080/",
          "height": 1000
        },
        "outputId": "19f4e532-ba32-4f54-e198-30430a0e894c"
      },
      "source": [
        "# Training the Word2Vec (mostly for huge amount of data)\n",
        "word2vec = Word2Vec(sentences, min_count=1)# min_count is the no. of times word occurs in sentences\n",
        "#min_count=2 means if the word is present less than 2 times then just remove the word\n",
        "words = word2vec.wv.vocab #word2vec.wv.vocab provides vocabs that have been found out in this model\n",
        "words"
      ],
      "execution_count": 17,
      "outputs": [
        {
          "output_type": "execute_result",
          "data": {
            "text/plain": [
              "{',': <gensim.models.keyedvectors.Vocab at 0x7f4069f7ccf8>,\n",
              " '.': <gensim.models.keyedvectors.Vocab at 0x7f4069f7c128>,\n",
              " '?': <gensim.models.keyedvectors.Vocab at 0x7f4069f7c630>,\n",
              " 'achievements': <gensim.models.keyedvectors.Vocab at 0x7f4069f7ef28>,\n",
              " 'alexander': <gensim.models.keyedvectors.Vocab at 0x7f4069f7c3c8>,\n",
              " 'also': <gensim.models.keyedvectors.Vocab at 0x7f4069f7e390>,\n",
              " 'among': <gensim.models.keyedvectors.Vocab at 0x7f4069f7ceb8>,\n",
              " 'anyone': <gensim.models.keyedvectors.Vocab at 0x7f4069f7c390>,\n",
              " 'areas': <gensim.models.keyedvectors.Vocab at 0x7f4069f7eac8>,\n",
              " 'believe': <gensim.models.keyedvectors.Vocab at 0x7f4069f7c940>,\n",
              " 'brahm': <gensim.models.keyedvectors.Vocab at 0x7f4069f7a1d0>,\n",
              " 'british': <gensim.models.keyedvectors.Vocab at 0x7f4069f7cbe0>,\n",
              " 'build': <gensim.models.keyedvectors.Vocab at 0x7f4069f7ce48>,\n",
              " 'came': <gensim.models.keyedvectors.Vocab at 0x7f4069f7c4a8>,\n",
              " 'captured': <gensim.models.keyedvectors.Vocab at 0x7f4069f7c240>,\n",
              " 'career': <gensim.models.keyedvectors.Vocab at 0x7f4069f7a0b8>,\n",
              " 'closely': <gensim.models.keyedvectors.Vocab at 0x7f4069f7a588>,\n",
              " 'come': <gensim.models.keyedvectors.Vocab at 0x7f4069f7cf98>,\n",
              " 'conquered': <gensim.models.keyedvectors.Vocab at 0x7f4069f7c320>,\n",
              " 'consider': <gensim.models.keyedvectors.Vocab at 0x7f4069f7a400>,\n",
              " 'culture': <gensim.models.keyedvectors.Vocab at 0x7f4069f7c518>,\n",
              " 'dept': <gensim.models.keyedvectors.Vocab at 0x7f4069f7edd8>,\n",
              " 'developed': <gensim.models.keyedvectors.Vocab at 0x7f4069f7cc18>,\n",
              " 'developing': <gensim.models.keyedvectors.Vocab at 0x7f4069f7c2e8>,\n",
              " 'development': <gensim.models.keyedvectors.Vocab at 0x7f4069f7ca90>,\n",
              " 'dhawan': <gensim.models.keyedvectors.Vocab at 0x7f4069f7a128>,\n",
              " 'done': <gensim.models.keyedvectors.Vocab at 0x7f4069f7cd30>,\n",
              " 'dr.': <gensim.models.keyedvectors.Vocab at 0x7f4069f7ebe0>,\n",
              " 'dutch': <gensim.models.keyedvectors.Vocab at 0x7f4069f7ccc0>,\n",
              " 'economic': <gensim.models.keyedvectors.Vocab at 0x7f4069f7e668>,\n",
              " 'enforce': <gensim.models.keyedvectors.Vocab at 0x7f4069f7c5c0>,\n",
              " 'falling': <gensim.models.keyedvectors.Vocab at 0x7f4069f7e128>,\n",
              " 'father': <gensim.models.keyedvectors.Vocab at 0x7f4069f7ab00>,\n",
              " 'fifty': <gensim.models.keyedvectors.Vocab at 0x7f4069f7cf60>,\n",
              " 'first': <gensim.models.keyedvectors.Vocab at 0x7f4069f7c898>,\n",
              " 'fortune': <gensim.models.keyedvectors.Vocab at 0x7f4069f7e3c8>,\n",
              " 'four': <gensim.models.keyedvectors.Vocab at 0x7f4069f7a320>,\n",
              " 'free': <gensim.models.keyedvectors.Vocab at 0x7f4069f7cf28>,\n",
              " 'freedom': <gensim.models.keyedvectors.Vocab at 0x7f4069f7c828>,\n",
              " 'french': <gensim.models.keyedvectors.Vocab at 0x7f4069f7c438>,\n",
              " 'gdp': <gensim.models.keyedvectors.Vocab at 0x7f4069f7cb70>,\n",
              " 'globally': <gensim.models.keyedvectors.Vocab at 0x7f4069f7e8d0>,\n",
              " 'go': <gensim.models.keyedvectors.Vocab at 0x7f4069f7e438>,\n",
              " 'good': <gensim.models.keyedvectors.Vocab at 0x7f4069f7e588>,\n",
              " 'got': <gensim.models.keyedvectors.Vocab at 0x7f4069f7c9b0>,\n",
              " 'grabbed': <gensim.models.keyedvectors.Vocab at 0x7f4069f7cfd0>,\n",
              " 'great': <gensim.models.keyedvectors.Vocab at 0x7f4069f7e6a0>,\n",
              " 'greeks': <gensim.models.keyedvectors.Vocab at 0x7f4069f7cef0>,\n",
              " 'growth': <gensim.models.keyedvectors.Vocab at 0x7f4069f7eeb8>,\n",
              " 'hand-in-hand': <gensim.models.keyedvectors.Vocab at 0x7f4069f7e940>,\n",
              " 'history': <gensim.models.keyedvectors.Vocab at 0x7f4069f7cac8>,\n",
              " 'incorrect': <gensim.models.keyedvectors.Vocab at 0x7f4069f7ee48>,\n",
              " 'independence': <gensim.models.keyedvectors.Vocab at 0x7f4069f7c978>,\n",
              " 'india': <gensim.models.keyedvectors.Vocab at 0x7f4090149c50>,\n",
              " 'invaded': <gensim.models.keyedvectors.Vocab at 0x7f4069f7c4e0>,\n",
              " 'lack': <gensim.models.keyedvectors.Vocab at 0x7f4069f7e198>,\n",
              " 'land': <gensim.models.keyedvectors.Vocab at 0x7f4069f7ca58>,\n",
              " 'lands': <gensim.models.keyedvectors.Vocab at 0x7f4069f7c2b0>,\n",
              " 'levels': <gensim.models.keyedvectors.Vocab at 0x7f4069f7e9b0>,\n",
              " 'life': <gensim.models.keyedvectors.Vocab at 0x7f4069f7c6d8>,\n",
              " 'looted': <gensim.models.keyedvectors.Vocab at 0x7f4069f7c400>,\n",
              " 'lucky': <gensim.models.keyedvectors.Vocab at 0x7f4069f7a518>,\n",
              " 'material': <gensim.models.keyedvectors.Vocab at 0x7f4069f7a6d8>,\n",
              " 'milestones': <gensim.models.keyedvectors.Vocab at 0x7f4069f7a390>,\n",
              " 'military': <gensim.models.keyedvectors.Vocab at 0x7f4069f7e780>,\n",
              " 'minds': <gensim.models.keyedvectors.Vocab at 0x7f4069f7c358>,\n",
              " 'moguls': <gensim.models.keyedvectors.Vocab at 0x7f4069f7cdd8>,\n",
              " 'must': <gensim.models.keyedvectors.Vocab at 0x7f4069f7c9e8>,\n",
              " 'nation': <gensim.models.keyedvectors.Vocab at 0x7f4069f7c278>,\n",
              " 'nations': <gensim.models.keyedvectors.Vocab at 0x7f4069f7cb00>,\n",
              " 'nuclear': <gensim.models.keyedvectors.Vocab at 0x7f4069f7a198>,\n",
              " 'nurture': <gensim.models.keyedvectors.Vocab at 0x7f4069f7c7f0>,\n",
              " 'one': <gensim.models.keyedvectors.Vocab at 0x7f4069f7c5f8>,\n",
              " 'onwards': <gensim.models.keyedvectors.Vocab at 0x7f4069f7cc88>,\n",
              " 'opportunity': <gensim.models.keyedvectors.Vocab at 0x7f4069f7a4a8>,\n",
              " 'others.that': <gensim.models.keyedvectors.Vocab at 0x7f4069f7c7b8>,\n",
              " 'people': <gensim.models.keyedvectors.Vocab at 0x7f4069f7c748>,\n",
              " 'percent': <gensim.models.keyedvectors.Vocab at 0x7f4069f7ec18>,\n",
              " 'portuguese': <gensim.models.keyedvectors.Vocab at 0x7f4069f7cda0>,\n",
              " 'poverty': <gensim.models.keyedvectors.Vocab at 0x7f4069f7ec50>,\n",
              " 'power': <gensim.models.keyedvectors.Vocab at 0x7f4069f7e7b8>,\n",
              " 'prakash': <gensim.models.keyedvectors.Vocab at 0x7f4069f7ac88>,\n",
              " 'professor': <gensim.models.keyedvectors.Vocab at 0x7f4069f7ab38>,\n",
              " 'protect': <gensim.models.keyedvectors.Vocab at 0x7f4069f7c668>,\n",
              " 'rate': <gensim.models.keyedvectors.Vocab at 0x7f4069f7eb70>,\n",
              " 'recognised': <gensim.models.keyedvectors.Vocab at 0x7f4069f7ee10>,\n",
              " 'respect': <gensim.models.keyedvectors.Vocab at 0x7f4069f7c710>,\n",
              " 'respects': <gensim.models.keyedvectors.Vocab at 0x7f4069f7ea58>,\n",
              " 'sarabhai': <gensim.models.keyedvectors.Vocab at 0x7f4069f7e4e0>,\n",
              " 'satish': <gensim.models.keyedvectors.Vocab at 0x7f4069f7a2b0>,\n",
              " 'second': <gensim.models.keyedvectors.Vocab at 0x7f4069f7c198>,\n",
              " 'see': <gensim.models.keyedvectors.Vocab at 0x7f4069f7cd68>,\n",
              " 'self-assured': <gensim.models.keyedvectors.Vocab at 0x7f4069f7e208>,\n",
              " 'self-confidence': <gensim.models.keyedvectors.Vocab at 0x7f4069f7ec88>,\n",
              " 'self-reliant': <gensim.models.keyedvectors.Vocab at 0x7f4069f7e240>,\n",
              " 'space': <gensim.models.keyedvectors.Vocab at 0x7f4069f7aef0>,\n",
              " 'stand': <gensim.models.keyedvectors.Vocab at 0x7f4069f7e518>,\n",
              " 'stands': <gensim.models.keyedvectors.Vocab at 0x7f4069f7e080>,\n",
              " 'started': <gensim.models.keyedvectors.Vocab at 0x7f4069f7c8d0>,\n",
              " 'strength': <gensim.models.keyedvectors.Vocab at 0x7f4069f7e5f8>,\n",
              " 'strong': <gensim.models.keyedvectors.Vocab at 0x7f4069f7e160>,\n",
              " 'succeeded': <gensim.models.keyedvectors.Vocab at 0x7f4069f7a278>,\n",
              " 'terms': <gensim.models.keyedvectors.Vocab at 0x7f4069f7cb38>,\n",
              " 'third': <gensim.models.keyedvectors.Vocab at 0x7f4069f7eb00>,\n",
              " 'three': <gensim.models.keyedvectors.Vocab at 0x7f4069fcef28>,\n",
              " 'time': <gensim.models.keyedvectors.Vocab at 0x7f4069f7cba8>,\n",
              " 'today': <gensim.models.keyedvectors.Vocab at 0x7f4069f7e2b0>,\n",
              " 'took': <gensim.models.keyedvectors.Vocab at 0x7f4069f7c780>,\n",
              " 'top': <gensim.models.keyedvectors.Vocab at 0x7f4069f7ce10>,\n",
              " 'tried': <gensim.models.keyedvectors.Vocab at 0x7f4069f7c550>,\n",
              " 'turks': <gensim.models.keyedvectors.Vocab at 0x7f4069f7cc50>,\n",
              " 'unless': <gensim.models.keyedvectors.Vocab at 0x7f4069f7e320>,\n",
              " 'us': <gensim.models.keyedvectors.Vocab at 0x7f4069f7c1d0>,\n",
              " 'vikram': <gensim.models.keyedvectors.Vocab at 0x7f4069f7e828>,\n",
              " 'vision': <gensim.models.keyedvectors.Vocab at 0x7f4069f7c908>,\n",
              " 'visions': <gensim.models.keyedvectors.Vocab at 0x7f4090149be0>,\n",
              " 'war': <gensim.models.keyedvectors.Vocab at 0x7f4069f7ca20>,\n",
              " 'way': <gensim.models.keyedvectors.Vocab at 0x7f4069f7c6a0>,\n",
              " 'worked': <gensim.models.keyedvectors.Vocab at 0x7f4069f7e978>,\n",
              " 'world': <gensim.models.keyedvectors.Vocab at 0x7f4069f7ce80>,\n",
              " 'years': <gensim.models.keyedvectors.Vocab at 0x7f4069f7c860>,\n",
              " 'yet': <gensim.models.keyedvectors.Vocab at 0x7f4069f7c470>,\n",
              " '’': <gensim.models.keyedvectors.Vocab at 0x7f4069f7c588>}"
            ]
          },
          "metadata": {
            "tags": []
          },
          "execution_count": 17
        }
      ]
    },
    {
      "cell_type": "code",
      "metadata": {
        "id": "mX5oWr4y27jk",
        "colab_type": "code",
        "colab": {
          "base_uri": "https://localhost:8080/",
          "height": 34
        },
        "outputId": "89a29e0e-d9dd-42a1-df9e-92b965537a7a"
      },
      "source": [
        "len(words)"
      ],
      "execution_count": 18,
      "outputs": [
        {
          "output_type": "execute_result",
          "data": {
            "text/plain": [
              "123"
            ]
          },
          "metadata": {
            "tags": []
          },
          "execution_count": 18
        }
      ]
    },
    {
      "cell_type": "code",
      "metadata": {
        "id": "8Hr8jH712h_3",
        "colab_type": "code",
        "colab": {
          "base_uri": "https://localhost:8080/",
          "height": 34
        },
        "outputId": "0199fe3b-9e15-4f6d-8418-c97d5b8e5c27"
      },
      "source": [
        "# Finding Word Vectors\n",
        "vector = word2vec.wv['war']\n",
        "len(vector)\n",
        "#vector of 100 dimensions"
      ],
      "execution_count": 19,
      "outputs": [
        {
          "output_type": "execute_result",
          "data": {
            "text/plain": [
              "100"
            ]
          },
          "metadata": {
            "tags": []
          },
          "execution_count": 19
        }
      ]
    },
    {
      "cell_type": "code",
      "metadata": {
        "id": "hBTfsCJx2w7P",
        "colab_type": "code",
        "colab": {
          "base_uri": "https://localhost:8080/",
          "height": 241
        },
        "outputId": "406c5823-80c6-4a59-c0cc-b8a83eb2baa5"
      },
      "source": [
        "# Words similar with any given word\n",
        "similar = word2vec.wv.most_similar('war')\n",
        "similar\n",
        "#These are the words which are similar with any given word, war "
      ],
      "execution_count": 20,
      "outputs": [
        {
          "output_type": "stream",
          "text": [
            "/usr/local/lib/python3.6/dist-packages/gensim/matutils.py:737: FutureWarning: Conversion of the second argument of issubdtype from `int` to `np.signedinteger` is deprecated. In future, it will be treated as `np.int64 == np.dtype(int).type`.\n",
            "  if np.issubdtype(vec.dtype, np.int):\n"
          ],
          "name": "stderr"
        },
        {
          "output_type": "execute_result",
          "data": {
            "text/plain": [
              "[('vision', 0.22847628593444824),\n",
              " ('brahm', 0.2084968537092209),\n",
              " ('second', 0.20272503793239594),\n",
              " ('nation', 0.18325603008270264),\n",
              " ('professor', 0.17144888639450073),\n",
              " ('prakash', 0.15739285945892334),\n",
              " ('succeeded', 0.15475070476531982),\n",
              " ('economic', 0.14802110195159912),\n",
              " ('first', 0.14759951829910278),\n",
              " ('developing', 0.14624015986919403)]"
            ]
          },
          "metadata": {
            "tags": []
          },
          "execution_count": 20
        }
      ]
    }
  ]
}